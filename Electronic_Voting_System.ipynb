{
  "nbformat": 4,
  "nbformat_minor": 0,
  "metadata": {
    "colab": {
      "provenance": [],
      "authorship_tag": "ABX9TyO6KGr5iRSfxAW6YNXH3gAS",
      "include_colab_link": true
    },
    "kernelspec": {
      "name": "python3",
      "display_name": "Python 3"
    },
    "language_info": {
      "name": "python"
    }
  },
  "cells": [
    {
      "cell_type": "markdown",
      "metadata": {
        "id": "view-in-github",
        "colab_type": "text"
      },
      "source": [
        "<a href=\"https://colab.research.google.com/github/karrisowmya/Catalog/blob/main/Electronic_Voting_System.ipynb\" target=\"_parent\"><img src=\"https://colab.research.google.com/assets/colab-badge.svg\" alt=\"Open In Colab\"/></a>"
      ]
    },
    {
      "cell_type": "code",
      "execution_count": 3,
      "metadata": {
        "colab": {
          "base_uri": "https://localhost:8080/"
        },
        "id": "zYTFkTfWGNJ-",
        "outputId": "2964c64a-54f3-497c-9823-da9a8d7b738b"
      },
      "outputs": [
        {
          "output_type": "stream",
          "name": "stdout",
          "text": [
            "Welcome to the Electronic Voting System\n",
            "Your Voter ID: RD53TG1X\n",
            "Candidates:\n",
            "1. Alice\n",
            "2. Bob\n",
            "3. Charlie\n",
            "Enter the number corresponding to your choice: 3\n",
            "Your vote has been cast and securely hashed as: de15665d70e8767e715fddac2def04ce0f261aed0a830fef12bbc7cbc2f7aade\n"
          ]
        }
      ],
      "source": [
        "import hashlib\n",
        "import random\n",
        "import string\n",
        "\n",
        "# Function to generate a random Voter ID\n",
        "def generate_voter_id(length=8):\n",
        "    return ''.join(random.choices(string.ascii_uppercase + string.digits, k=length))\n",
        "\n",
        "# Function to hash the vote\n",
        "def hash_vote(vote, voter_id):\n",
        "    # Combine the vote and voter ID to create a unique vote hash\n",
        "    vote_string = f\"{vote}_{voter_id}\"\n",
        "    return hashlib.sha256(vote_string.encode()).hexdigest()\n",
        "\n",
        "# Function to cast a vote\n",
        "def cast_vote(voter_id, vote):\n",
        "    # Hash the vote to ensure it is secure and cannot be tampered with\n",
        "    vote_hash = hash_vote(vote, voter_id)\n",
        "    # Normally, the vote would be stored in a secure database\n",
        "    # For this example, we'll just return the hash as a demonstration\n",
        "    return vote_hash\n",
        "\n",
        "# Function to simulate a voting process\n",
        "def voting_system():\n",
        "    print(\"Welcome to the Electronic Voting System\")\n",
        "\n",
        "    # List of candidates\n",
        "    candidates = [\"Alice\", \"Bob\", \"Charlie\"]\n",
        "\n",
        "    # Generate a unique Voter ID\n",
        "    voter_id = generate_voter_id()\n",
        "    print(f\"Your Voter ID: {voter_id}\")\n",
        "\n",
        "    # Display the candidates\n",
        "    print(\"Candidates:\")\n",
        "    for i, candidate in enumerate(candidates, 1):\n",
        "        print(f\"{i}. {candidate}\")\n",
        "\n",
        "    # User casts their vote\n",
        "    choice = int(input(\"Enter the number corresponding to your choice: \"))\n",
        "\n",
        "    if choice < 1 or choice > len(candidates):\n",
        "        print(\"Invalid choice. Please restart the voting process.\")\n",
        "        return\n",
        "\n",
        "    vote = candidates[choice - 1]\n",
        "\n",
        "    # Cast the vote and get the hashed result\n",
        "    vote_hash = cast_vote(voter_id, vote)\n",
        "\n",
        "    # In a real system, this hash would be stored securely\n",
        "    print(f\"Your vote has been cast and securely hashed as: {vote_hash}\")\n",
        "\n",
        "    # Return the vote and its hash for auditing\n",
        "    return vote, vote_hash\n",
        "\n",
        "# Simulate the voting system\n",
        "if __name__ == \"__main__\":\n",
        "    voting_system()\n"
      ]
    }
  ]
}